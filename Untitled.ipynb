{
 "cells": [
  {
   "cell_type": "code",
   "execution_count": 7,
   "id": "76a7c166-807c-4231-8fa7-a21ffc5b7e4a",
   "metadata": {},
   "outputs": [],
   "source": [
    "a = 2.2019e-08"
   ]
  },
  {
   "cell_type": "code",
   "execution_count": 8,
   "id": "d74ddb45-4082-412e-a6ae-145cee2a7824",
   "metadata": {},
   "outputs": [
    {
     "name": "stdout",
     "output_type": "stream",
     "text": [
      "style_loss=0.00000\n"
     ]
    }
   ],
   "source": [
    "template = 'style_loss={:.5f}'\n",
    "print(template.format(a))"
   ]
  },
  {
   "cell_type": "code",
   "execution_count": null,
   "id": "2f56d981-c259-42e1-84c4-17d05b3bb8a0",
   "metadata": {},
   "outputs": [],
   "source": []
  }
 ],
 "metadata": {
  "kernelspec": {
   "display_name": "Python 3 (ipykernel)",
   "language": "python",
   "name": "python3"
  },
  "language_info": {
   "codemirror_mode": {
    "name": "ipython",
    "version": 3
   },
   "file_extension": ".py",
   "mimetype": "text/x-python",
   "name": "python",
   "nbconvert_exporter": "python",
   "pygments_lexer": "ipython3",
   "version": "3.9.7"
  }
 },
 "nbformat": 4,
 "nbformat_minor": 5
}
