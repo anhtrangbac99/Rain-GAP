{
 "cells": [
  {
   "cell_type": "code",
   "execution_count": 8,
   "metadata": {},
   "outputs": [],
   "source": [
    "from models.Blocks import DiscriminatorTop\n",
    "import torch\n",
    "import torch.nn as nn\n",
    "from models.CustomLayers import *\n",
    "import numpy as np"
   ]
  },
  {
   "cell_type": "code",
   "execution_count": 2,
   "metadata": {},
   "outputs": [],
   "source": [
    "def nf(stage):\n",
    "    return min(int(8192 / (2.0 ** (stage * 1.0))), 512)"
   ]
  },
  {
   "cell_type": "code",
   "execution_count": 3,
   "metadata": {},
   "outputs": [],
   "source": [
    "act, gain = {'relu': (torch.relu, np.sqrt(2)),'lrelu': (nn.LeakyReLU(negative_slope=0.2), np.sqrt(2))}['lrelu']\n"
   ]
  },
  {
   "cell_type": "code",
   "execution_count": 4,
   "metadata": {},
   "outputs": [],
   "source": [
    "layer = DiscriminatorTop(4, 1,in_channels=nf(2), intermediate_channels=nf(2),gain=gain, use_wscale=True, activation_layer=act)\n",
    "        "
   ]
  },
  {
   "cell_type": "code",
   "execution_count": 7,
   "metadata": {},
   "outputs": [],
   "source": [
    "mbstd_group_size = 4\n",
    "mbstd_num_features = 1\n",
    "in_channels = nf(2)\n",
    "intermediate_channels  = nf(2)\n",
    "gain = gain\n",
    "use_wscale = True\n",
    "activation_layer = act\n",
    "resolution=4\n",
    "in_channels2=None\n",
    "output_features=1\n",
    "last_gain=1"
   ]
  },
  {
   "cell_type": "code",
   "execution_count": 27,
   "metadata": {},
   "outputs": [],
   "source": [
    "layers = []\n",
    "if mbstd_group_size > 1:\n",
    "    layers.append(('stddev_layer', StddevLayer(mbstd_group_size, mbstd_num_features)))\n",
    "\n",
    "if in_channels2 is None:\n",
    "    in_channels2 = in_channels\n",
    "\n",
    "layers.append(('conv', EqualizedConv2d(in_channels + mbstd_num_features, in_channels2, kernel_size=3,\n",
    "                                        gain=gain, use_wscale=use_wscale)))\n",
    "layers.append(('act0', activation_layer))\n",
    "layers.append(('view', View(-1)))\n",
    "layers.append(('dense0', EqualizedLinear(in_channels2 * resolution, intermediate_channels,\n",
    "                                            gain=gain, use_wscale=use_wscale)))\n",
    "layers.append(('act1', activation_layer))\n",
    "layers.append(('dense1', EqualizedLinear(intermediate_channels, output_features,gain=last_gain, use_wscale=use_wscale)))\n"
   ]
  },
  {
   "cell_type": "code",
   "execution_count": 20,
   "metadata": {},
   "outputs": [],
   "source": [
    "a = torch.rand([128, 512, 2, 2])"
   ]
  },
  {
   "cell_type": "code",
   "execution_count": 21,
   "metadata": {},
   "outputs": [],
   "source": [
    "out1 = layers[0][1](a)"
   ]
  },
  {
   "cell_type": "code",
   "execution_count": 22,
   "metadata": {},
   "outputs": [],
   "source": [
    "out2 = layers[1][1](out1)"
   ]
  },
  {
   "cell_type": "code",
   "execution_count": 23,
   "metadata": {},
   "outputs": [],
   "source": [
    "out3 = layers[2][1](out2)"
   ]
  },
  {
   "cell_type": "code",
   "execution_count": 24,
   "metadata": {},
   "outputs": [],
   "source": [
    "out4 = layers[3][1](out3)"
   ]
  },
  {
   "cell_type": "code",
   "execution_count": 30,
   "metadata": {},
   "outputs": [
    {
     "name": "stdout",
     "output_type": "stream",
     "text": [
      "here\n",
      "torch.Size([512, 2048])\n"
     ]
    }
   ],
   "source": [
    "out5 = layers[4][1](out4)"
   ]
  },
  {
   "cell_type": "code",
   "execution_count": 32,
   "metadata": {},
   "outputs": [],
   "source": [
    "out6 = layers[5][1](out5)"
   ]
  },
  {
   "cell_type": "code",
   "execution_count": 33,
   "metadata": {},
   "outputs": [
    {
     "name": "stdout",
     "output_type": "stream",
     "text": [
      "here\n",
      "torch.Size([1, 512])\n"
     ]
    }
   ],
   "source": [
    "out7 = layers[6][1](out6)"
   ]
  },
  {
   "cell_type": "code",
   "execution_count": 35,
   "metadata": {},
   "outputs": [
    {
     "data": {
      "text/plain": [
       "tensor([[503.1995, 495.2905, 512.1022,  ..., 494.5173, 505.1496, 507.6604],\n",
       "        [510.3517, 505.0934, 512.6149,  ..., 513.4971, 511.3862, 518.2028],\n",
       "        [505.2905, 500.9744, 511.7928,  ..., 513.3304, 502.2877, 519.8686],\n",
       "        ...,\n",
       "        [510.4067, 508.1538, 521.6430,  ..., 518.9274, 513.8808, 523.3340],\n",
       "        [514.3096, 511.9636, 530.2161,  ..., 520.1252, 522.5251, 537.9234],\n",
       "        [499.7108, 500.6949, 513.5479,  ..., 508.0507, 497.5432, 511.3209]])"
      ]
     },
     "execution_count": 35,
     "metadata": {},
     "output_type": "execute_result"
    }
   ],
   "source": [
    "F.linear(torch.rand([512, 2048]),torch.rand([512, 2048]),torch.rand([512]))"
   ]
  },
  {
   "cell_type": "code",
   "execution_count": null,
   "metadata": {},
   "outputs": [],
   "source": []
  }
 ],
 "metadata": {
  "interpreter": {
   "hash": "67e46799abac990145ca804676a611c558bf9fffab8402108192c2512ffa38e8"
  },
  "kernelspec": {
   "display_name": "Python 3.8.5 ('science')",
   "language": "python",
   "name": "python3"
  },
  "language_info": {
   "codemirror_mode": {
    "name": "ipython",
    "version": 3
   },
   "file_extension": ".py",
   "mimetype": "text/x-python",
   "name": "python",
   "nbconvert_exporter": "python",
   "pygments_lexer": "ipython3",
   "version": "3.8.5"
  },
  "orig_nbformat": 4
 },
 "nbformat": 4,
 "nbformat_minor": 2
}
